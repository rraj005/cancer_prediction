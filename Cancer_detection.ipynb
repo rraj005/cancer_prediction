{
 "cells": [
  {
   "cell_type": "code",
   "execution_count": 1,
   "id": "012415c2-be2c-4b3c-ba52-d85a780e674f",
   "metadata": {},
   "outputs": [],
   "source": [
    "import sys\n",
    "import numpy as np\n",
    "import pandas as pd\n",
    "import math as mt\n",
    "import matplotlib.pyplot as plt\n",
    "import tensorflow as tf\n",
    "from sklearn import linear_model\n",
    "from sklearn.model_selection import train_test_split\n",
    "from sklearn.metrics import accuracy_score\n",
    "\n",
    "file = pd.read_csv('Cancer Dataset.csv')\n",
    "\n",
    "df = pd.DataFrame(file)\n",
    "if df.isnull().values.any():\n",
    "    cols_with_null = df.columns[df.isnull().any()].tolist()\n",
    "    if len(cols_with_null) > 0:\n",
    "        df = df.bfill().ffill()\n",
    "df.drop_duplicates(inplace = True)"
   ]
  },
  {
   "cell_type": "code",
   "execution_count": 2,
   "id": "823fb0ef-d650-46d5-bccb-64615fdf732c",
   "metadata": {
    "scrolled": true
   },
   "outputs": [
    {
     "data": {
      "image/png": "[encoded data removed]",
      "text/plain": [
       "<Figure size 640x480 with 1 Axes>"
      ]
     },
     "metadata": {},
     "output_type": "display_data"
    }
   ],
   "source": [
    "ch = df['diagnosis'].value_counts()\n",
    "plt.pie(ch, labels = ch.index, autopct = '%.1f%%')\n",
    "plt.legend()\n",
    "plt.show()"
   ]
  },
  {
   "cell_type": "code",
   "execution_count": 3,
   "id": "92275746-09c5-430c-af5c-735db618d195",
   "metadata": {},
   "outputs": [],
   "source": [
    "X = df.drop('diagnosis', axis = 1)\n",
    "Y = df['diagnosis']\n",
    "\n",
    "X_train, X_test, Y_train, Y_test = train_test_split(X, Y, test_size = 0.1, random_state = 42)\n",
    "\n",
    "model = linear_model.LogisticRegression(max_iter = 1000)\n",
    "model.fit(X_train, Y_train)\n",
    "\n",
    "Y_pred = model.predict(X_test)"
   ]
  },
  {
   "cell_type": "code",
   "execution_count": 4,
   "id": "7222e2f5-4bdd-4d0c-afbb-f0e301ccbeb8",
   "metadata": {},
   "outputs": [
    {
     "name": "stdout",
     "output_type": "stream",
     "text": [
      "98.24561403508771\n"
     ]
    }
   ],
   "source": [
    "print(accuracy_score(Y_test, Y_pred) * 100)"
   ]
  },
  {
   "cell_type": "code",
   "execution_count": 9,
   "id": "26722840-9448-425b-b2dc-f3a5221efb84",
   "metadata": {},
   "outputs": [
    {
     "name": "stdout",
     "output_type": "stream",
     "text": [
      "INFO:tensorflow:Assets written to: cancer_detection_model\\assets\n"
     ]
    },
    {
     "name": "stderr",
     "output_type": "stream",
     "text": [
      "INFO:tensorflow:Assets written to: cancer_detection_model\\assets\n"
     ]
    }
   ],
   "source": [
    "class ModelWrapper(tf.Module):\n",
    "    def __init__(self, sklearn_model):\n",
    "        super().__init__()\n",
    "        self.model = sklearn_model\n",
    "\n",
    "    @tf.function(input_signature=[tf.TensorSpec(shape=[None, X_train.shape[1]], dtype=tf.float32, name = \"x\")])\n",
    "    def predict(self, x):\n",
    "        def sklearn_predict(x_np):\n",
    "            preds = self.model.predict(x_np)\n",
    "            return preds.astype(np.int64)\n",
    "        \n",
    "        preds = tf.py_function(func=sklearn_predict, inp=[x], Tout=tf.int64)\n",
    "        preds.set_shape([None])  \n",
    "        return preds\n",
    "\n",
    "wrapped_model = ModelWrapper(model)\n",
    "tf.saved_model.save(wrapped_model, 'cancer_detection_model', signatures=wrapped_model.predict) "
   ]
  },
  {
   "cell_type": "code",
   "execution_count": null,
   "id": "acc96ba0-7288-4995-a647-46bbcbb82489",
   "metadata": {},
   "outputs": [],
   "source": [
    "loaded = tf.saved_model.load('saved_sklearn_model')\n",
    "print(list(loaded.signatures.keys()))\n",
    "\n",
    "file1 = pd.read_csv('Cancer Test Dataset.csv')\n",
    "df = pd.DataFrame(file1)\n",
    "if df.isnull().values.any():\n",
    "    cols_with_null = df.columns[df.isnull().any()].tolist()\n",
    "    if len(cols_with_null) > 0:\n",
    "        df = df.bfill().ffill()\n",
    "df.drop_duplicates(inplace = True)\n",
    "X = tf.convert_to_tensor(df.drop('diagnosis', axis = 1), dtype = tf.float32)\n",
    "Y = df['diagnosis']\n",
    "predictions = loaded.signatures['serving_default'](x = X)\n",
    "#print(list(predictions.values())[0].shape)"
   ]
  },
  {
   "cell_type": "code",
   "execution_count": 122,
   "id": "70cc0e96-549f-4dfa-8e0a-6a6371765022",
   "metadata": {
    "scrolled": true
   },
   "outputs": [
    {
     "name": "stdout",
     "output_type": "stream",
     "text": [
      "(20,)\n",
      "100.0\n"
     ]
    }
   ],
   "source": [
    "print(Y.shape)\n",
    "print(accuracy_score(Y, list(predictions.values())[0]) * 100)\n"
   ]
  },
  {
   "cell_type": "code",
   "execution_count": 126,
   "id": "1c2560bf-d451-4a6c-a84c-6cbd7ce5f509",
   "metadata": {},
   "outputs": [
    {
     "name": "stdout",
     "output_type": "stream",
     "text": [
      "Index(['id', 'radius_mean', 'texture_mean', 'perimeter_mean', 'area_mean',\n",
      "       'smoothness_mean', 'compactness_mean', 'concavity_mean',\n",
      "       'concave points_mean', 'symmetry_mean', 'fractal_dimension_mean',\n",
      "       'radius_se', 'texture_se', 'perimeter_se', 'area_se', 'smoothness_se',\n",
      "       'compactness_se', 'concavity_se', 'concave points_se', 'symmetry_se',\n",
      "       'fractal_dimension_se', 'radius_worst', 'texture_worst',\n",
      "       'perimeter_worst', 'area_worst', 'smoothness_worst',\n",
      "       'compactness_worst', 'concavity_worst', 'concave points_worst',\n",
      "       'symmetry_worst', 'fractal_dimension_worst'],\n",
      "      dtype='object')\n"
     ]
    }
   ],
   "source": [
    "print(X_train.columns)\n"
   ]
  },
  {
   "cell_type": "code",
   "execution_count": null,
   "id": "0f0aab58-533c-4a74-804e-6f1ed2dc4aa0",
   "metadata": {},
   "outputs": [],
   "source": []
  }
 ],
 "metadata": {
  "kernelspec": {
   "display_name": "Python 3 (ipykernel)",
   "language": "python",
   "name": "python3"
  },
  "language_info": {
   "codemirror_mode": {
    "name": "ipython",
    "version": 3
   },
   "file_extension": ".py",
   "mimetype": "text/x-python",
   "name": "python",
   "nbconvert_exporter": "python",
   "pygments_lexer": "ipython3",
   "version": "3.12.0"
  }
 },
 "nbformat": 4,
 "nbformat_minor": 5
}
